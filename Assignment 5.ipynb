{
 "cells": [
  {
   "cell_type": "markdown",
   "id": "29105a1b",
   "metadata": {},
   "source": [
    "1. What does an empty dictionary's code look like?"
   ]
  },
  {
   "cell_type": "markdown",
   "id": "ded33448",
   "metadata": {},
   "source": [
    "Ans:The code for an empty dictionary :  a = {}, which is represented by two curly brackets."
   ]
  },
  {
   "cell_type": "markdown",
   "id": "52d02474",
   "metadata": {},
   "source": [
    "2. What is the value of a dictionary value with the key ['foo'] and the value 42?"
   ]
  },
  {
   "cell_type": "markdown",
   "id": "23942795",
   "metadata": {},
   "source": [
    "Ans: {'foo':42}, the value of the key 'foo' would be 42."
   ]
  },
  {
   "cell_type": "markdown",
   "id": "ad7726d2",
   "metadata": {},
   "source": [
    "3. What is the most significant distinction between a dictionary and a list?"
   ]
  },
  {
   "cell_type": "markdown",
   "id": "4a107029",
   "metadata": {},
   "source": [
    "Ans: A dictionary is collection of key and value pairs whereas a list is collection of values."
   ]
  },
  {
   "cell_type": "markdown",
   "id": "eedaf336",
   "metadata": {},
   "source": [
    "4. What happens if you try to access spam['foo'] if spam is {bar: 100}?"
   ]
  },
  {
   "cell_type": "markdown",
   "id": "c1c1b175",
   "metadata": {},
   "source": [
    "Ans: The function will give KeyError: 'foo'"
   ]
  },
  {
   "cell_type": "markdown",
   "id": "d3dba666",
   "metadata": {},
   "source": [
    "5. If a dictionary is stored in spam, what is the difference between the expressions 'cat' in spam and 'cat' in spam.keys()?"
   ]
  },
  {
   "cell_type": "markdown",
   "id": "5f5ba890",
   "metadata": {},
   "source": [
    "Ans: There is no difference . The operator checks whether a value exits as a key in the dictionary or not"
   ]
  },
  {
   "cell_type": "markdown",
   "id": "73ae8290",
   "metadata": {},
   "source": [
    "6. If a dictionary is stored in spam, what is the difference between the expressions 'cat' in spam and 'cat' in spam.values()?"
   ]
  },
  {
   "cell_type": "markdown",
   "id": "1aaba688",
   "metadata": {},
   "source": [
    "Ans: 'cat' in spam checks whether there is a 'cat' key in the dictionary, while 'cat' in spam.values() checks whether there is a value 'cat' for one of the keys in spam."
   ]
  },
  {
   "cell_type": "markdown",
   "id": "40318656",
   "metadata": {},
   "source": [
    "7. What is a shortcut for the following code?\n",
    "if 'color' not in spam:\n",
    "spam['color'] = 'black'"
   ]
  },
  {
   "cell_type": "markdown",
   "id": "254fdfec",
   "metadata": {},
   "source": [
    "Ans: spam.setdefault('color','black')"
   ]
  },
  {
   "cell_type": "markdown",
   "id": "b87ee8fe",
   "metadata": {},
   "source": [
    "8. How do you \"pretty print\" dictionary values using which module and function?"
   ]
  },
  {
   "cell_type": "markdown",
   "id": "35fa0ae1",
   "metadata": {},
   "source": [
    "Ans: We can use pprint() function of pprint module"
   ]
  },
  {
   "cell_type": "code",
   "execution_count": null,
   "id": "97bfbd81",
   "metadata": {},
   "outputs": [],
   "source": []
  }
 ],
 "metadata": {
  "kernelspec": {
   "display_name": "Python 3 (ipykernel)",
   "language": "python",
   "name": "python3"
  },
  "language_info": {
   "codemirror_mode": {
    "name": "ipython",
    "version": 3
   },
   "file_extension": ".py",
   "mimetype": "text/x-python",
   "name": "python",
   "nbconvert_exporter": "python",
   "pygments_lexer": "ipython3",
   "version": "3.9.13"
  }
 },
 "nbformat": 4,
 "nbformat_minor": 5
}
