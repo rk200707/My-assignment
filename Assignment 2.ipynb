{
 "cells": [
  {
   "cell_type": "code",
   "execution_count": null,
   "id": "a8285642",
   "metadata": {},
   "outputs": [],
   "source": [
    "1.What are the two values of the Boolean data type? How do you write them?\n",
    "\n",
    "True and False are the two types of Boolean data. We have to use capital T and F with the rest of the word in lowercase."
   ]
  },
  {
   "cell_type": "code",
   "execution_count": null,
   "id": "6a7dc00d",
   "metadata": {},
   "outputs": [],
   "source": [
    "2. What are the three different types of Boolean operators?\n",
    "\n",
    "AND, OR, NOT are the three different types of Boolean operators."
   ]
  },
  {
   "cell_type": "code",
   "execution_count": null,
   "id": "7b3345de",
   "metadata": {},
   "outputs": [],
   "source": [
    "3. Make a list of each Boolean operators truth tables (i.e. every possible combination of Boolean\n",
    "values for the operator and what it evaluate ).\n",
    "\n",
    "Truth Tables\n",
    "\n",
    "For AND Operator\n",
    "\n",
    "True and True is True\n",
    "True and False is False\n",
    "False and True is False\n",
    "False and False is False\n",
    "\n",
    "For OR Operaotor\n",
    "True OR True is True\n",
    "True OR False is True\n",
    "False OR True is True\n",
    "False OR False is False\n",
    "\n",
    "For NOT Operaotor\n",
    "True not is False \n",
    "False not is True"
   ]
  },
  {
   "cell_type": "code",
   "execution_count": null,
   "id": "1846fc96",
   "metadata": {},
   "outputs": [],
   "source": [
    "4. What are the values of the following expressions?\n",
    "\n",
    "(5 > 4) and (3 == 5) ===>> False\n",
    "not (5 > 4) ===>> Flase\n",
    "(5 > 4) or (3 == 5) ===>> True\n",
    "not ((5 > 4) or (3 == 5)) ===>> False\n",
    "(True and True) and (True == False) ===>> False\n",
    "(not False) or (not True) ===>> True"
   ]
  },
  {
   "cell_type": "code",
   "execution_count": null,
   "id": "16beeef5",
   "metadata": {},
   "outputs": [],
   "source": [
    "5. What are the six comparison operators?\n",
    "\n",
    "Following are the six comparison operators\n",
    "== , != , < , > , <= , =>"
   ]
  },
  {
   "cell_type": "code",
   "execution_count": null,
   "id": "49a4d8dc",
   "metadata": {},
   "outputs": [],
   "source": [
    "6. How do you tell the difference between the equal to and assignment operators? Describe a condition and when you would use one.\n",
    "\n",
    "'==' is the equal to operator that compares two values and evaluates to a Boolean, while '=' is that assignment operator that stores a value in a variable.\n",
    "\n",
    "a=3 # Assigning operator that stores 3 value in a variable a\n",
    "a==3:#comparing values of a varible value and 3"
   ]
  },
  {
   "cell_type": "code",
   "execution_count": null,
   "id": "04d38381",
   "metadata": {},
   "outputs": [],
   "source": [
    "7. Identify the three blocks in this code:\n",
    "spam = 0\n",
    "if spam == 10:\n",
    "    print('eggs') # block 1\n",
    "if spam > 5:\n",
    "    print('bacon') # block 2\n",
    "else:\n",
    "    print('ham') # block 3\n",
    "print('spam')\n",
    "print('spam')\n",
    "\n",
    "In Python, code block refers to a collection of code that is in the same block or indent. \n",
    "This is most commonly found in classes, functions, and loops."
   ]
  },
  {
   "cell_type": "code",
   "execution_count": null,
   "id": "fd2e1ce7",
   "metadata": {},
   "outputs": [],
   "source": [
    "8. Write code that prints Hello if 1 is stored in spam, prints Howdy if 2 is stored in spam, and prints\n",
    "Greetings! if anything else is stored in spam.\n"
   ]
  },
  {
   "cell_type": "code",
   "execution_count": 4,
   "id": "83385459",
   "metadata": {},
   "outputs": [
    {
     "name": "stdout",
     "output_type": "stream",
     "text": [
      "Howdy\n"
     ]
    }
   ],
   "source": [
    "spam = 2\n",
    "if spam == 1:\n",
    "    print(\"Hello\")\n",
    "elif spam == 2:\n",
    "    print(\"Howdy\")\n",
    "else:\n",
    "    print(\"Greetings!\")\n",
    "    "
   ]
  },
  {
   "cell_type": "code",
   "execution_count": null,
   "id": "bb70c671",
   "metadata": {},
   "outputs": [],
   "source": [
    "9.If your programme is stuck in an endless loop, what keys you’ll press?\n",
    "\n",
    "If program is stuck, I'll press Ctrl+C to stop the infinite loop."
   ]
  },
  {
   "cell_type": "code",
   "execution_count": null,
   "id": "08ea77d8",
   "metadata": {},
   "outputs": [],
   "source": [
    "10. How can you tell the difference between break and continue?\n",
    "\n",
    "In case the \"break\" condition is met, the \"break\" statement will exit the loop. \n",
    "Contrarily, the \"continue\" command will forward execution to the beginning of the loop."
   ]
  },
  {
   "cell_type": "code",
   "execution_count": null,
   "id": "4fc28852",
   "metadata": {},
   "outputs": [],
   "source": [
    "11. In a for loop, what is the difference between range(10), range(0, 10), and range(0, 10, 1)?\n",
    "\n",
    "The Differences are as follows:\n",
    "\n",
    "The range(10) call range from 0 to 9 (but not include 10)\n",
    "The range (0,10) explicitly tells the loop to start at 0\n",
    "The range(0,10,1) explicitly tells the loop to increase the variable by 1 on each iteration"
   ]
  },
  {
   "cell_type": "code",
   "execution_count": null,
   "id": "83ee66ec",
   "metadata": {},
   "outputs": [],
   "source": [
    "12. Write a short program that prints the numbers 1 to 10 using a for loop. Then write an equivalent\n",
    "program that prints the numbers 1 to 10 using a while loop."
   ]
  },
  {
   "cell_type": "code",
   "execution_count": 8,
   "id": "f442f591",
   "metadata": {},
   "outputs": [
    {
     "name": "stdout",
     "output_type": "stream",
     "text": [
      "0\n",
      "1\n",
      "2\n",
      "3\n",
      "4\n",
      "5\n",
      "6\n",
      "7\n",
      "8\n",
      "9\n",
      "10\n"
     ]
    }
   ],
   "source": [
    "for i in range(1,11):\n",
    "    print(i)"
   ]
  },
  {
   "cell_type": "code",
   "execution_count": 16,
   "id": "765290ad",
   "metadata": {},
   "outputs": [
    {
     "name": "stdout",
     "output_type": "stream",
     "text": [
      "1\n",
      "2\n",
      "3\n",
      "4\n",
      "5\n",
      "6\n",
      "7\n",
      "8\n",
      "9\n",
      "10\n"
     ]
    }
   ],
   "source": [
    "a = 1\n",
    "while a < 11:\n",
    "    print(a)\n",
    "    a = a+1"
   ]
  },
  {
   "cell_type": "code",
   "execution_count": null,
   "id": "41157558",
   "metadata": {},
   "outputs": [],
   "source": [
    "13. If you had a function named bacon() inside a module named spam, how would you call it after\n",
    "importing spam?\n",
    "\n",
    "I will call it as spam.bacon()"
   ]
  }
 ],
 "metadata": {
  "kernelspec": {
   "display_name": "Python 3 (ipykernel)",
   "language": "python",
   "name": "python3"
  },
  "language_info": {
   "codemirror_mode": {
    "name": "ipython",
    "version": 3
   },
   "file_extension": ".py",
   "mimetype": "text/x-python",
   "name": "python",
   "nbconvert_exporter": "python",
   "pygments_lexer": "ipython3",
   "version": "3.9.13"
  }
 },
 "nbformat": 4,
 "nbformat_minor": 5
}
