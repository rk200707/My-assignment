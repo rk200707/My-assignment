{
 "cells": [
  {
   "cell_type": "code",
   "execution_count": 4,
   "id": "16d39e0e",
   "metadata": {},
   "outputs": [
    {
     "ename": "SyntaxError",
     "evalue": "invalid syntax (3935774470.py, line 4)",
     "output_type": "error",
     "traceback": [
      "\u001b[1;36m  File \u001b[1;32m\"C:\\Users\\rushi\\AppData\\Local\\Temp\\ipykernel_4188\\3935774470.py\"\u001b[1;36m, line \u001b[1;32m4\u001b[0m\n\u001b[1;33m    * : expression\u001b[0m\n\u001b[1;37m      ^\u001b[0m\n\u001b[1;31mSyntaxError\u001b[0m\u001b[1;31m:\u001b[0m invalid syntax\n"
     ]
    }
   ],
   "source": [
    "\"\"\"1. In the below elements which of them are values or an expression? eg:- values can be\n",
    "integer or string and expressions will be mathematical operators.\"\"\"\n",
    "* : expression\n",
    "'hello' : value \n",
    "-87.8 : value\n",
    "- : expression\n",
    "/ : expression\n",
    "+ : expression\n",
    "6 : value"
   ]
  },
  {
   "cell_type": "code",
   "execution_count": 2,
   "id": "a7ebd60b",
   "metadata": {},
   "outputs": [
    {
     "ename": "SyntaxError",
     "evalue": "invalid syntax (2817921603.py, line 2)",
     "output_type": "error",
     "traceback": [
      "\u001b[1;36m  File \u001b[1;32m\"C:\\Users\\rushi\\AppData\\Local\\Temp\\ipykernel_4188\\2817921603.py\"\u001b[1;36m, line \u001b[1;32m2\u001b[0m\n\u001b[1;33m    :\u001b[0m\n\u001b[1;37m    ^\u001b[0m\n\u001b[1;31mSyntaxError\u001b[0m\u001b[1;31m:\u001b[0m invalid syntax\n"
     ]
    }
   ],
   "source": [
    "\"\"\"2. What is the difference between string and variable?\"\"\"\n",
    ":\n",
    "    String is a type of Data that has a value whereas Variables are a symbol in which you can store data or value."
   ]
  },
  {
   "cell_type": "code",
   "execution_count": null,
   "id": "f3b56561",
   "metadata": {},
   "outputs": [],
   "source": [
    "\"\"\"3. Describe three different data types.\"\"\"\n",
    ":\n",
    "    Float - used for the number with a decimal point e.g. 4.23,6.87\n",
    "    integer - user for whole number e.g. 3,6\n",
    "    boollean - used for true or false i.e. logical values"
   ]
  },
  {
   "cell_type": "code",
   "execution_count": null,
   "id": "3dd96ae1",
   "metadata": {},
   "outputs": [],
   "source": [
    "\"\"\"4. What is an expression made up of? What do all expressions do?\"\"\"\n",
    ":\n",
    "    A mix of values, variables, operators, and function calls makes up an expression. \n",
    "    Expressions must be evaluated. \n",
    "    When an expression is requested to be printed in Python, the interpreter evaluates the expression and prints the result."
   ]
  },
  {
   "cell_type": "code",
   "execution_count": null,
   "id": "c134b4ca",
   "metadata": {},
   "outputs": [],
   "source": [
    "\"\"\"This assignment statements, like spam = 10. What is the difference between an\n",
    "expression and a statement?\"\"\"\n",
    ":\n",
    "    A Statement is just a standalone unit of execution that doesnt return anything,\n",
    "    whereas a expression is a mixture of values and functions that are combined to get a result."
   ]
  },
  {
   "cell_type": "code",
   "execution_count": null,
   "id": "f9ecd00f",
   "metadata": {},
   "outputs": [],
   "source": [
    "\"\"\"After running the following code, what does the variable bacon contain?\n",
    "bacon = 22\n",
    "bacon + 1\"\"\"\n",
    ":\n",
    "    22"
   ]
  },
  {
   "cell_type": "code",
   "execution_count": null,
   "id": "10b420bf",
   "metadata": {},
   "outputs": [],
   "source": [
    "\"\"\"What should the values of the following two terms be?\n",
    "'spam'+'spamspam'\n",
    "'spam' * 3\"\"\"\n",
    ":\n",
    "    'spamspamspam'\n",
    "    'spamspamspam'\n",
    "    same"
   ]
  },
  {
   "cell_type": "code",
   "execution_count": null,
   "id": "3477c199",
   "metadata": {},
   "outputs": [],
   "source": [
    "\"\"\"Why is eggs a valid variable name while 100 is invalid?\"\"\"\n",
    ":\n",
    "    A variable cannot start with number hence eggs is a valid variable and 100 is invalid"
   ]
  },
  {
   "cell_type": "code",
   "execution_count": null,
   "id": "95ded19d",
   "metadata": {},
   "outputs": [],
   "source": [
    "\"\"\"What three functions can be used to get the integer, floating-point number, or string\n",
    "version of a value?\"\"\"\n",
    ":\n",
    "    The functions to get the value of\n",
    "    integer : int()\n",
    "    floating-point number : float()\n",
    "    string : str()"
   ]
  },
  {
   "cell_type": "code",
   "execution_count": null,
   "id": "f7e3f3d3",
   "metadata": {},
   "outputs": [],
   "source": [
    "\"\"\"Why does this expression cause an error? How can you fix it?\n",
    "'I have eaten' + 99 + 'burritos' \"\"\"\n",
    ":\n",
    "    This expression cause an error because we cannot add string and integer by using '+' expression.\n",
    "    In order to use '+' expression, we have to convert integer 99 to string '99'."
   ]
  },
  {
   "cell_type": "code",
   "execution_count": 9,
   "id": "a5951771",
   "metadata": {},
   "outputs": [
    {
     "data": {
      "text/plain": [
       "'I have eaten 99 burritos'"
      ]
     },
     "execution_count": 9,
     "metadata": {},
     "output_type": "execute_result"
    }
   ],
   "source": [
    "'I have eaten '+'99'+' burritos'"
   ]
  }
 ],
 "metadata": {
  "kernelspec": {
   "display_name": "Python 3 (ipykernel)",
   "language": "python",
   "name": "python3"
  },
  "language_info": {
   "codemirror_mode": {
    "name": "ipython",
    "version": 3
   },
   "file_extension": ".py",
   "mimetype": "text/x-python",
   "name": "python",
   "nbconvert_exporter": "python",
   "pygments_lexer": "ipython3",
   "version": "3.9.13"
  }
 },
 "nbformat": 4,
 "nbformat_minor": 5
}
